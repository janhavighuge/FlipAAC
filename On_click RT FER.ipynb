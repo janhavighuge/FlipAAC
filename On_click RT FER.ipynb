{
 "cells": [
  {
   "cell_type": "code",
   "execution_count": 6,
   "id": "40400194",
   "metadata": {},
   "outputs": [
    {
     "name": "stdout",
     "output_type": "stream",
     "text": [
      "Enter 'yes' to start emotion detection: yes\n"
     ]
    },
    {
     "name": "stderr",
     "output_type": "stream",
     "text": [
      "Action: emotion: 100%|███████████████████████████████████████████████████████████████████| 1/1 [00:00<00:00, 13.17it/s]\n",
      "Action: emotion: 100%|███████████████████████████████████████████████████████████████████| 1/1 [00:00<00:00, 11.82it/s]\n",
      "Action: emotion: 100%|███████████████████████████████████████████████████████████████████| 1/1 [00:00<00:00, 14.71it/s]\n",
      "Action: emotion: 100%|███████████████████████████████████████████████████████████████████| 1/1 [00:00<00:00, 15.89it/s]\n",
      "Action: emotion: 100%|███████████████████████████████████████████████████████████████████| 1/1 [00:00<00:00, 15.43it/s]\n",
      "Action: emotion: 100%|███████████████████████████████████████████████████████████████████| 1/1 [00:00<00:00, 17.71it/s]\n",
      "Action: emotion: 100%|███████████████████████████████████████████████████████████████████| 1/1 [00:00<00:00, 15.88it/s]\n",
      "Action: emotion: 100%|███████████████████████████████████████████████████████████████████| 1/1 [00:00<00:00, 16.20it/s]\n",
      "Action: emotion: 100%|███████████████████████████████████████████████████████████████████| 1/1 [00:00<00:00, 16.97it/s]\n",
      "Action: emotion: 100%|███████████████████████████████████████████████████████████████████| 1/1 [00:00<00:00, 17.20it/s]\n",
      "Action: emotion: 100%|███████████████████████████████████████████████████████████████████| 1/1 [00:00<00:00, 14.91it/s]\n",
      "Action: emotion: 100%|███████████████████████████████████████████████████████████████████| 1/1 [00:00<00:00, 16.40it/s]\n",
      "Action: emotion: 100%|███████████████████████████████████████████████████████████████████| 1/1 [00:00<00:00, 15.57it/s]\n",
      "Action: emotion: 100%|███████████████████████████████████████████████████████████████████| 1/1 [00:00<00:00, 16.24it/s]\n",
      "Action: emotion: 100%|███████████████████████████████████████████████████████████████████| 1/1 [00:00<00:00, 13.17it/s]\n"
     ]
    },
    {
     "name": "stdout",
     "output_type": "stream",
     "text": [
      "Aggregated dominant emotion: sad\n"
     ]
    }
   ],
   "source": [
    "from deepface import DeepFace\n",
    "import cv2\n",
    "import time\n",
    "import collections\n",
    "\n",
    "# Set the video capture device (0 is usually the default webcam)\n",
    "cap = cv2.VideoCapture(0)\n",
    "\n",
    "# Initialize a list to store the dominant emotion for each frame\n",
    "emotion_list = []\n",
    "\n",
    "# Prompt the user to start emotion detection by entering \"yes\"\n",
    "start_detection = input(\"Enter 'yes' to start emotion detection: \")\n",
    "\n",
    "if start_detection.lower() == \"yes\":\n",
    "    # Start capturing video frames\n",
    "    while True:\n",
    "        # Read the next frame\n",
    "        try:\n",
    "            ret, frame = cap.read()\n",
    "            if not ret:\n",
    "                raise Exception(\"Error reading frame\")\n",
    "        except Exception as e:\n",
    "            print(\"Error reading frame:\", e)\n",
    "            time.sleep(0.1)\n",
    "            continue\n",
    "\n",
    "        # Convert the frame to RGB format (required by Deepface)\n",
    "        rgb_frame = cv2.cvtColor(frame, cv2.COLOR_BGR2RGB)\n",
    "\n",
    "        # Use Deepface to analyze the emotions in the current frame\n",
    "        try:\n",
    "            emotions = DeepFace.analyze(rgb_frame, actions=['emotion'])\n",
    "        except Exception as e:\n",
    "            print(\"Error analyzing frame:\", e)\n",
    "            time.sleep(0.1)\n",
    "            continue\n",
    "\n",
    "        # Add the dominant emotion score for the current frame to the list\n",
    "        dominant_emotion = emotions[0]['dominant_emotion']\n",
    "        emotion_list.append(dominant_emotion)\n",
    "\n",
    "        # Display the video in a window\n",
    "        cv2.imshow('frame', frame)\n",
    "\n",
    "        # Check if any key is pressed\n",
    "        if cv2.waitKey(1) != -1:\n",
    "            break\n",
    "\n",
    "        time.sleep(0.1)\n",
    "\n",
    "    # Release the video capture device and close the OpenCV window\n",
    "    cap.release()\n",
    "    cv2.destroyAllWindows()\n",
    "\n",
    "    # Calculate the most common emotion in the list\n",
    "    if emotion_list:\n",
    "        counter = collections.Counter(emotion_list)\n",
    "        dominant_emotion = counter.most_common(1)[0][0]\n",
    "\n",
    "        # Print the aggregated dominant emotion score for the video\n",
    "        print(\"Aggregated dominant emotion:\", dominant_emotion)\n",
    "    else:\n",
    "        print(\"No emotions detected in the video\")\n",
    "else:\n",
    "    print(\"Emotion detection not started\") \n"
   ]
  },
  {
   "cell_type": "code",
   "execution_count": null,
   "id": "f182d1e7",
   "metadata": {},
   "outputs": [],
   "source": []
  }
 ],
 "metadata": {
  "kernelspec": {
   "display_name": "Python 3 (ipykernel)",
   "language": "python",
   "name": "python3"
  },
  "language_info": {
   "codemirror_mode": {
    "name": "ipython",
    "version": 3
   },
   "file_extension": ".py",
   "mimetype": "text/x-python",
   "name": "python",
   "nbconvert_exporter": "python",
   "pygments_lexer": "ipython3",
   "version": "3.10.7"
  }
 },
 "nbformat": 4,
 "nbformat_minor": 5
}
